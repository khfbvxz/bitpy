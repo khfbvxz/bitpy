{
 "cells": [
  {
   "cell_type": "code",
   "execution_count": 3,
   "id": "af4329fd",
   "metadata": {},
   "outputs": [
    {
     "data": {
      "text/plain": [
       "19"
      ]
     },
     "execution_count": 3,
     "metadata": {},
     "output_type": "execute_result"
    }
   ],
   "source": [
    "2+17"
   ]
  },
  {
   "cell_type": "code",
   "execution_count": 4,
   "id": "53126867",
   "metadata": {},
   "outputs": [
    {
     "data": {
      "text/plain": [
       "-15"
      ]
     },
     "execution_count": 4,
     "metadata": {},
     "output_type": "execute_result"
    }
   ],
   "source": [
    "2-17"
   ]
  },
  {
   "cell_type": "code",
   "execution_count": 5,
   "id": "56652240",
   "metadata": {},
   "outputs": [
    {
     "data": {
      "text/plain": [
       "34"
      ]
     },
     "execution_count": 5,
     "metadata": {},
     "output_type": "execute_result"
    }
   ],
   "source": [
    "2*17"
   ]
  },
  {
   "cell_type": "code",
   "execution_count": 7,
   "id": "a8758297",
   "metadata": {},
   "outputs": [
    {
     "data": {
      "text/plain": [
       "289"
      ]
     },
     "execution_count": 7,
     "metadata": {},
     "output_type": "execute_result"
    }
   ],
   "source": [
    "17**2"
   ]
  },
  {
   "cell_type": "code",
   "execution_count": 9,
   "id": "80a67c07",
   "metadata": {},
   "outputs": [
    {
     "data": {
      "text/plain": [
       "1280"
      ]
     },
     "execution_count": 9,
     "metadata": {},
     "output_type": "execute_result"
    }
   ],
   "source": [
    "10*2**7"
   ]
  },
  {
   "cell_type": "code",
   "execution_count": 11,
   "id": "653bb1c1",
   "metadata": {},
   "outputs": [
    {
     "data": {
      "text/plain": [
       "256"
      ]
     },
     "execution_count": 11,
     "metadata": {},
     "output_type": "execute_result"
    }
   ],
   "source": [
    "2**2**3"
   ]
  },
  {
   "cell_type": "code",
   "execution_count": 13,
   "id": "02068aec",
   "metadata": {},
   "outputs": [
    {
     "data": {
      "text/plain": [
       "3.4"
      ]
     },
     "execution_count": 13,
     "metadata": {},
     "output_type": "execute_result"
    }
   ],
   "source": [
    "17/5"
   ]
  },
  {
   "cell_type": "code",
   "execution_count": 15,
   "id": "144f3cca",
   "metadata": {},
   "outputs": [
    {
     "data": {
      "text/plain": [
       "3"
      ]
     },
     "execution_count": 15,
     "metadata": {},
     "output_type": "execute_result"
    }
   ],
   "source": [
    "17//5"
   ]
  },
  {
   "cell_type": "code",
   "execution_count": 18,
   "id": "da38ce2c",
   "metadata": {},
   "outputs": [
    {
     "name": "stdout",
     "output_type": "stream",
     "text": [
      "나누어지는 수를 입력하시오: 17\n",
      "나누는 수를 입력하시오: 5\n",
      "나눗셈의 몫= 3\n",
      "나눗셈의 나머지= 2\n"
     ]
    }
   ],
   "source": [
    "p = int(input(\"나누어지는 수를 입력하시오: \"))\n",
    "q = int(input(\"나누는 수를 입력하시오: \"))\n",
    "print(\"나눗셈의 몫=\",p//q)\n",
    "print(\"나눗셈의 나머지=\",p%q)"
   ]
  },
  {
   "cell_type": "code",
   "execution_count": 21,
   "id": "d598e962",
   "metadata": {},
   "outputs": [
    {
     "name": "stdout",
     "output_type": "stream",
     "text": [
      "16 분 40 초\n"
     ]
    }
   ],
   "source": [
    "sec=1000\n",
    "min=sec//60\n",
    "remainder=sec%60\n",
    "print(min,'분',remainder,'초')"
   ]
  },
  {
   "cell_type": "code",
   "execution_count": 23,
   "id": "b06565fc",
   "metadata": {},
   "outputs": [
    {
     "name": "stdout",
     "output_type": "stream",
     "text": [
      "100\n",
      "100\n"
     ]
    }
   ],
   "source": [
    "x=y=100\n",
    "print(x)\n",
    "print(y)"
   ]
  },
  {
   "cell_type": "code",
   "execution_count": 27,
   "id": "10cfda31",
   "metadata": {},
   "outputs": [
    {
     "name": "stdout",
     "output_type": "stream",
     "text": [
      "초깃값 x= 1000\n",
      "x += 2 후의 x= 1002\n",
      "x -= 2 후의 x= 1000\n"
     ]
    }
   ],
   "source": [
    "x=1000\n",
    "print(\"초깃값 x=\",x)\n",
    "x += 2;\n",
    "print(\"x += 2 후의 x=\",x)\n",
    "x -=2;\n",
    "print(\"x -= 2 후의 x=\",x)"
   ]
  },
  {
   "cell_type": "code",
   "execution_count": 30,
   "id": "8b93383f",
   "metadata": {},
   "outputs": [
    {
     "data": {
      "text/plain": [
       "'C:\\\\Users\\\\yuhwan'"
      ]
     },
     "execution_count": 30,
     "metadata": {},
     "output_type": "execute_result"
    }
   ],
   "source": [
    "import os\n",
    "os.getcwd()"
   ]
  },
  {
   "cell_type": "code",
   "execution_count": null,
   "id": "8ed0fb1f",
   "metadata": {},
   "outputs": [],
   "source": []
  },
  {
   "cell_type": "code",
   "execution_count": null,
   "id": "4ff0e93b",
   "metadata": {},
   "outputs": [],
   "source": []
  },
  {
   "cell_type": "code",
   "execution_count": null,
   "id": "24dd48c6",
   "metadata": {},
   "outputs": [],
   "source": []
  }
 ],
 "metadata": {
  "kernelspec": {
   "display_name": "Python 3",
   "language": "python",
   "name": "python3"
  },
  "language_info": {
   "codemirror_mode": {
    "name": "ipython",
    "version": 3
   },
   "file_extension": ".py",
   "mimetype": "text/x-python",
   "name": "python",
   "nbconvert_exporter": "python",
   "pygments_lexer": "ipython3",
   "version": "3.8.8"
  }
 },
 "nbformat": 4,
 "nbformat_minor": 5
}

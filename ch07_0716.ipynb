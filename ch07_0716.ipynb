{
 "cells": [
  {
   "cell_type": "code",
   "execution_count": 3,
   "id": "5a20de55",
   "metadata": {},
   "outputs": [
    {
     "name": "stdout",
     "output_type": "stream",
     "text": [
      "['영어', '수학', '사회', '과학']\n",
      "영어\n",
      "수학\n",
      "사회\n"
     ]
    }
   ],
   "source": [
    "slist=['영어','수학','사회','과학']\n",
    "print(slist)\n",
    "print(slist[0])\n",
    "print(slist[1])\n",
    "print(slist[2])"
   ]
  },
  {
   "cell_type": "code",
   "execution_count": 2,
   "id": "84831f02",
   "metadata": {},
   "outputs": [
    {
     "name": "stdout",
     "output_type": "stream",
     "text": [
      "['사과', '세제']\n"
     ]
    }
   ],
   "source": [
    "cart=[]\n",
    "cart.append(\"사과\")\n",
    "cart.append(\"세제\")\n",
    "print(cart)"
   ]
  },
  {
   "cell_type": "code",
   "execution_count": 5,
   "id": "1ce79271",
   "metadata": {},
   "outputs": [
    {
     "name": "stdout",
     "output_type": "stream",
     "text": [
      "['A', 'B', 'C']\n",
      "['A', 'B', 'C']\n",
      "['D', 'E', 'F']\n",
      "['A', 'B', 'C', 'D', 'E', 'F']\n",
      "['A', 'B', 'C', 'D', 'E', 'F']\n"
     ]
    }
   ],
   "source": [
    "letters=['A','B','C','D','E','F']\n",
    "print(letters[0:3])\n",
    "print(letters[:3])\n",
    "print(letters[3:])\n",
    "print(letters[:])\n",
    "copy=letters[:]\n",
    "print(copy)\n"
   ]
  },
  {
   "cell_type": "code",
   "execution_count": 16,
   "id": "a6ad41be",
   "metadata": {},
   "outputs": [
    {
     "name": "stdout",
     "output_type": "stream",
     "text": [
      "['사과', '섬유 유연제', '화장지', '치약']\n",
      "['사과', '섬유 유연제', '화장지', '치약', '양말']\n",
      "['사과', '건전지', '섬유 유연제', '화장지', '치약', '양말']\n",
      "['사과', '건전지', '섬유 유연제', '치약', '양말']\n",
      "['사과', '건전지', '섬유 유연제', '양말']\n",
      "['사과', '건전지', '섬유 유연제']\n",
      "양말\n",
      "1\n"
     ]
    }
   ],
   "source": [
    "cart=['사과','세제','화장지','치약']\n",
    "cart[1] = '섬유 유연제' # 항목변경\n",
    "print(cart)\n",
    "cart.append('양말') #추가\n",
    "print(cart)\n",
    "cart.insert(1,'건전지') #인덱스 추가\n",
    "print(cart)\n",
    "if '화장지' in cart:\n",
    "    cart.remove('화장지')  #삭제\n",
    "print(cart)\n",
    "del cart[3] # 인덱스 3 치약 제거\n",
    "print(cart)\n",
    "\n",
    "item=cart.pop() #pop()함수 맨뒤 제거\n",
    "print(cart)\n",
    "print(item)\n",
    "\n",
    "# 항목 탐색\n",
    "if '건전지' in cart:\n",
    "    print(cart.index('건전지'))"
   ]
  },
  {
   "cell_type": "code",
   "execution_count": 19,
   "id": "a1a3f13f",
   "metadata": {},
   "outputs": [
    {
     "name": "stdout",
     "output_type": "stream",
     "text": [
      "['아이언맨', '토르', '헐르', '스칼렛워치']\n",
      "['스칼렛워치', '아이언맨', '토르', '헐르']\n"
     ]
    }
   ],
   "source": [
    "'''리스트 정렬 '''\n",
    "heros = [\"아이언맨\",\"토르\",\"헐르\",\"스칼렛워치\"]\n",
    "# heros.sort() #오름차순 정리\n",
    "# heros.sort(reverse=True) #reverse=True 옵션 사용 내림차순 정리\n",
    "new_heros =sorted(heros) # 정렬된 리스트에서 새로운 리스트 필요할 때\n",
    "print(heros)\n",
    "print(new_heros)\n"
   ]
  },
  {
   "cell_type": "code",
   "execution_count": 23,
   "id": "2b950ca8",
   "metadata": {},
   "outputs": [
    {
     "name": "stdout",
     "output_type": "stream",
     "text": [
      "10\n",
      "20\n",
      "50\n",
      "[[10, 20, 30], [40, 50, 100]]\n"
     ]
    }
   ],
   "source": [
    "'''2차원 리스트의 기초'''\n",
    "num = [[10,20,30],[40,50,60]]\n",
    "print(num[0][0])\n",
    "print(num[0][1])\n",
    "print(num[1][1])\n",
    "num[1][2]=100\n",
    "\n",
    "print(num)\n",
    "\n"
   ]
  },
  {
   "cell_type": "code",
   "execution_count": 27,
   "id": "1802bc8c",
   "metadata": {
    "scrolled": true
   },
   "outputs": [
    {
     "name": "stdout",
     "output_type": "stream",
     "text": [
      "i= 1\n",
      "i= 2\n",
      "i= 3\n",
      "영웅들의 이름을 입력하시오:gh\n",
      "영웅들의 이름을 입력하시오:gd\n",
      "영웅들의 이름을 입력하시오:aga\n",
      "영웅들의 이름을 입력하시오:qwe\n",
      "영웅들의 이름을 입력하시오:qwe\n",
      "gh gd aga qwe qwe 209 117 "
     ]
    }
   ],
   "source": [
    "'''리스트와 반복문 궁합'''\n",
    "for i in [1,2,3]:\n",
    "    print(\"i=\",i)\n",
    "    \n",
    "heroes=[]\n",
    "for i in range(5):\n",
    "    name = input(\"영웅들의 이름을 입력하시오:\")\n",
    "    heroes.append(name)\n",
    "    \n",
    "for i in heroes:\n",
    "    print(i,end=\" \")\n",
    "    \n",
    "num=[100,96,209,22,30,117]\n",
    "\n",
    "for i in num:\n",
    "    if i % 2 == 1:\n",
    "        print(i,end=\" \")"
   ]
  },
  {
   "cell_type": "code",
   "execution_count": 31,
   "id": "fd133096",
   "metadata": {},
   "outputs": [
    {
     "name": "stdout",
     "output_type": "stream",
     "text": [
      "주기율표 구절을 입력하시오:수헬리베붕\n",
      "주기율표 구절을 입력하시오:탄질산플레나\n",
      "주기율표 구절을 입력하시오:마알규\n",
      "주기율표 구절을 입력하시오:인할염아칼칼\n",
      "['수헬리베붕', '탄질산플레나', '마알규', '인할염아칼칼']\n"
     ]
    }
   ],
   "source": [
    "''' lab 주기율표'''\n",
    "ju=[]\n",
    "for i in range(4):\n",
    "    name = input(\"주기율표 구절을 입력하시오:\")\n",
    "    ju.append(name)\n",
    "print(ju)"
   ]
  },
  {
   "cell_type": "code",
   "execution_count": null,
   "id": "a4d634cc",
   "metadata": {},
   "outputs": [],
   "source": [
    "'''오늘의 명언'''"
   ]
  },
  {
   "cell_type": "code",
   "execution_count": null,
   "id": "5bea280a",
   "metadata": {},
   "outputs": [],
   "source": [
    "''' 스파이럴 그리기'''"
   ]
  },
  {
   "cell_type": "code",
   "execution_count": null,
   "id": "92077f69",
   "metadata": {},
   "outputs": [],
   "source": [
    "'''오륜기'''"
   ]
  },
  {
   "cell_type": "code",
   "execution_count": null,
   "id": "92305822",
   "metadata": {},
   "outputs": [],
   "source": [
    "''' 습도구하기'''"
   ]
  }
 ],
 "metadata": {
  "kernelspec": {
   "display_name": "Python 3",
   "language": "python",
   "name": "python3"
  },
  "language_info": {
   "codemirror_mode": {
    "name": "ipython",
    "version": 3
   },
   "file_extension": ".py",
   "mimetype": "text/x-python",
   "name": "python",
   "nbconvert_exporter": "python",
   "pygments_lexer": "ipython3",
   "version": "3.8.8"
  }
 },
 "nbformat": 4,
 "nbformat_minor": 5
}

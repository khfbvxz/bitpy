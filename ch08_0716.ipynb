{
 "cells": [
  {
   "cell_type": "code",
   "execution_count": null,
   "id": "e2ec486f",
   "metadata": {},
   "outputs": [],
   "source": [
    "'''\n",
    "함수:여러 개의 명령을 하나의 단위로 묶어 놓은 것\n",
    "클래스: 클래스는 코드 중에서, 관련된 변수와 함수를 하나로 묶은 것\n",
    "모듈 : 여러개의 함수를 모아 놓은 것으로 프로그램 일부를 가지고 있는\n",
    "독립적인 파일로 관리하는것\n",
    "'''\n",
    "'''\n",
    "함수 \n",
    "특정 기능 구현\n",
    "반복적으로 사용\n",
    "서브루틴, 루틴, 메서드, 프로시저\n",
    "'''\n",
    "'''\n",
    "def 함수명 (매개변수):\n",
    "    명령1\n",
    "    명령2 \n",
    "'''"
   ]
  },
  {
   "cell_type": "code",
   "execution_count": 1,
   "id": "ddd37574",
   "metadata": {},
   "outputs": [
    {
     "name": "stdout",
     "output_type": "stream",
     "text": [
      "서울특별시 종로구 1번지\n",
      "파이썬 빌딩 7층\n",
      "홍길동\n",
      "서울특별시 종로구 1번지\n",
      "파이썬 빌딩 7층\n",
      "홍길동\n"
     ]
    }
   ],
   "source": [
    "def print_address():\n",
    "    print(\"서울특별시 종로구 1번지\")\n",
    "    print(\"파이썬 빌딩 7층\")\n",
    "    print(\"홍길동\")\n",
    "print_address()\n",
    "print_address()"
   ]
  },
  {
   "cell_type": "code",
   "execution_count": 3,
   "id": "24cb1058",
   "metadata": {},
   "outputs": [
    {
     "name": "stdout",
     "output_type": "stream",
     "text": [
      "서울특별시 종로구 1번지\n",
      "파이썬 빌딩 7층\n",
      "홍길동\n",
      "서울특별시 종로구 1번지\n",
      "파이썬 빌딩 7층\n",
      "김코드\n",
      "서울특별시 종로구 1번지\n",
      "파이썬 빌딩 7층\n",
      "나함수\n",
      "sum= 55\n",
      "sum= 210\n"
     ]
    }
   ],
   "source": [
    "'''\n",
    "인수(agrument):호출 프로그램에 의하여 함수에 실제로 전달되는 값\n",
    "매개변수(parameter):인수를 담아 함수 내에서 쓰이는 변수\n",
    "'''\n",
    "def print_address(name):\n",
    "    print(\"서울특별시 종로구 1번지\")\n",
    "    print(\"파이썬 빌딩 7층\")\n",
    "    print(name)\n",
    "print_address(\"홍길동\")\n",
    "print_address(\"김코드\")\n",
    "print_address(\"나함수\")"
   ]
  },
  {
   "cell_type": "code",
   "execution_count": 4,
   "id": "1f809b74",
   "metadata": {
    "scrolled": true
   },
   "outputs": [
    {
     "name": "stdout",
     "output_type": "stream",
     "text": [
      "sum= 55\n",
      "sum= 210\n",
      "11\n",
      "60\n"
     ]
    }
   ],
   "source": [
    "'''함수 여러 개의 인수 전달'''\n",
    "def get_sum(start,end):\n",
    "    sum=0\n",
    "    for i in range(start,end+1):\n",
    "        sum+=i\n",
    "    print(\"sum=\",sum)\n",
    "\n",
    "get_sum(1,10)\n",
    "get_sum(1,20)\n",
    "\n",
    "def inc(a,step=1):  #인수를 넘겨주지 않아도인수가 자신의 기본값을 갖도록\n",
    "    print(a+step)\n",
    "inc(10)\n",
    "inc(10,50)"
   ]
  },
  {
   "cell_type": "code",
   "execution_count": 11,
   "id": "6e8a2ca3",
   "metadata": {},
   "outputs": [
    {
     "name": "stdout",
     "output_type": "stream",
     "text": [
      "78.5\n",
      "392.5\n",
      "2 , 3\n"
     ]
    }
   ],
   "source": [
    "''' 함수의 값 반환하기'''\n",
    "def calculate_area(radius):    # 함수의 정의\n",
    "    area=3.14*radius**2\n",
    "    return area         # 함숫 값의 반환  \n",
    "\n",
    "c_area = cal_area(5.0)   #함수의 호출\n",
    "print(c_area)\n",
    "\n",
    "area_sum=cal_area(5.0)+cal_area(10.0)\n",
    "                        # 수식에 적용된 함수 호출\n",
    "print(area_sum)\n",
    "\n",
    "def get_input():  #파이썬 반환값 여러 개 가능\n",
    "    return 2,3 \n",
    "x,y=get_input()\n",
    "print(x,\",\",y)"
   ]
  },
  {
   "cell_type": "code",
   "execution_count": 10,
   "id": "9632b5da",
   "metadata": {},
   "outputs": [],
   "source": [
    "def calculate_area(radius):    # 반환값을 사용하지 않을 수도 있음\n",
    "    area=3.14*radius**2\n",
    "    return area         \n",
    "\n",
    "c_area = cal_area(5.0)   "
   ]
  },
  {
   "cell_type": "code",
   "execution_count": null,
   "id": "f3a6b4c6",
   "metadata": {},
   "outputs": [],
   "source": []
  }
 ],
 "metadata": {
  "kernelspec": {
   "display_name": "Python 3",
   "language": "python",
   "name": "python3"
  },
  "language_info": {
   "codemirror_mode": {
    "name": "ipython",
    "version": 3
   },
   "file_extension": ".py",
   "mimetype": "text/x-python",
   "name": "python",
   "nbconvert_exporter": "python",
   "pygments_lexer": "ipython3",
   "version": "3.8.8"
  }
 },
 "nbformat": 4,
 "nbformat_minor": 5
}

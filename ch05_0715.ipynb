{
 "cells": [
  {
   "cell_type": "code",
   "execution_count": 1,
   "id": "46e9ced7",
   "metadata": {},
   "outputs": [
    {
     "name": "stdout",
     "output_type": "stream",
     "text": [
      "합격입니다!\n",
      "수고하셨습니다.\n"
     ]
    }
   ],
   "source": [
    "score = 90\n",
    "if score>=60:            # 마지막에 콜론!!\n",
    "    print(\"합격입니다!\")#들여쓰기!!\n",
    "print(\"수고하셨습니다.\")"
   ]
  },
  {
   "cell_type": "code",
   "execution_count": 4,
   "id": "94c9521d",
   "metadata": {},
   "outputs": [
    {
     "name": "stdout",
     "output_type": "stream",
     "text": [
      "언어를 선택하세요(1=한국어,2=영어,3=프랑스어,4=독일어)3\n",
      "Bonjour\n"
     ]
    }
   ],
   "source": [
    "language=int(input(\"언어를 선택하세요(1=한국어,2=영어,3=프랑스어,4=독일어)\"))\n",
    "if language == 1:\n",
    "    print(\"안녕\")\n",
    "if language == 2:\n",
    "    print(\"Hello\")\n",
    "if language== 3:\n",
    "    print(\"Bonjour\")\n",
    "if language == 4:\n",
    "    print(\"Guten morgen\")"
   ]
  },
  {
   "cell_type": "code",
   "execution_count": 7,
   "id": "f649831e",
   "metadata": {},
   "outputs": [
    {
     "name": "stdout",
     "output_type": "stream",
     "text": [
      "나이를 입력하시오: 19\n",
      "영화를 관람할 수 있습니다.\n"
     ]
    }
   ],
   "source": [
    "age = int(input(\"나이를 입력하시오: \"))\n",
    "\n",
    "if age>=15:\n",
    "    print(\"영화를 관람할 수 있습니다.\")\n",
    "else:\n",
    "   print(\"영화를 관람할 수 없습니다.\")"
   ]
  },
  {
   "cell_type": "code",
   "execution_count": 1,
   "id": "f925a8bc",
   "metadata": {},
   "outputs": [
    {
     "name": "stdout",
     "output_type": "stream",
     "text": [
      "정수를 입력하시오: 10\n",
      "짝수입니다.\n"
     ]
    }
   ],
   "source": [
    "num = int(input(\"정수를 입력하시오: \"))\n",
    "if num%2 == 0:\n",
    "    print(\"짝수입니다.\")\n",
    "else:\n",
    "    print(\"홀수입니다.\")"
   ]
  },
  {
   "cell_type": "code",
   "execution_count": 2,
   "id": "91322d0b",
   "metadata": {},
   "outputs": [
    {
     "data": {
      "text/plain": [
       "True"
      ]
     },
     "execution_count": 2,
     "metadata": {},
     "output_type": "execute_result"
    }
   ],
   "source": [
    "1 == 1 and 2==2"
   ]
  },
  {
   "cell_type": "code",
   "execution_count": 3,
   "id": "6b3dd203",
   "metadata": {},
   "outputs": [
    {
     "name": "stdout",
     "output_type": "stream",
     "text": [
      "정수를 입력하시오: -10\n",
      "음수입니다.\n"
     ]
    }
   ],
   "source": [
    "num = int(input(\"정수를 입력하시오: \"))\n",
    "if num>0:\n",
    "    print(\"양수입니다.\")\n",
    "elif num==0:\n",
    "    print(\"0입니다.\")\n",
    "else:\n",
    "    print(\"음수입니다.\")"
   ]
  },
  {
   "cell_type": "code",
   "execution_count": 6,
   "id": "4b2d62ee",
   "metadata": {},
   "outputs": [
    {
     "name": "stdout",
     "output_type": "stream",
     "text": [
      "정수를 입력하시오: 10\n",
      "양수입니다.\n"
     ]
    }
   ],
   "source": [
    "num = int(input(\"정수를 입력하시오: \"))\n",
    "if num>=0:\n",
    "    if num==0:\n",
    "        print(\"0입니다.\")\n",
    "    else:\n",
    "        print(\"양수입니다.\")\n",
    "else:\n",
    "    print(\"음수입니다.\")"
   ]
  },
  {
   "cell_type": "code",
   "execution_count": 7,
   "id": "3b405ce1",
   "metadata": {},
   "outputs": [
    {
     "name": "stdout",
     "output_type": "stream",
     "text": [
      "변 a의 길이: 3\n",
      "변 b의 길이: 4\n",
      "변 c의 길이: 5\n",
      "직삼각형입니다.\n"
     ]
    }
   ],
   "source": [
    "''' 직각삼각형 판별하기'''\n",
    "a = int(input(\"변 a의 길이: \"))\n",
    "b = int(input(\"변 b의 길이: \"))\n",
    "c = int(input(\"변 c의 길이: \"))\n",
    "if a**2+b**2==c**2:\n",
    "    print(\"직삼각형입니다.\")\n",
    "else:\n",
    "    print(\"직삼각형이 아닙니다.\")\n"
   ]
  },
  {
   "cell_type": "code",
   "execution_count": 3,
   "id": "16471897",
   "metadata": {},
   "outputs": [],
   "source": [
    "''' 정수의 종류를 판별하는 스마트 터틀'''\n",
    "import turtle\n",
    "t=turtle.Turtle()\n",
    "num=turtle.numinput(\"\",\"숫자를 입력하시오: \")\n",
    "t.shape(\"turtle\")\n",
    "t.up()\n",
    "t.goto(100,100)\n",
    "t.write(\"입력된 정수는 양의 정수입니다.\")\n",
    "t.goto(100,0)\n",
    "t.write(\"입력된 정수는 양의 0입니다.\")\n",
    "t.goto(100,-100)\n",
    "t.write(\"입력된 정수는 음의 정수입니다.\")\n",
    "t.goto(0,0)\n",
    "t.down()\n",
    "if num>0:\n",
    "    t.goto(100,100)\n",
    "elif num==0:\n",
    "    t.goto(100,0)\n",
    "else:\n",
    "    t.goto(100,-100)\n",
    "t.seth(0)\n",
    "\n"
   ]
  },
  {
   "cell_type": "code",
   "execution_count": 17,
   "id": "b9141a20",
   "metadata": {},
   "outputs": [
    {
     "name": "stdout",
     "output_type": "stream",
     "text": [
      "주민등록번호의 성별 정보 번호를 생성합니다.\n",
      "생성번호 2\n",
      "여성입니다.\n",
      "프로그램을 종료합니다.\n"
     ]
    }
   ],
   "source": [
    "''' 주민등록번호 뒷자를 의미, 이런뜻이?'''\n",
    "import random\n",
    "print(\"주민등록번호의 성별 정보 번호를 생성합니다.\")\n",
    "num = random.randint(1,4)\n",
    "print(\"생성번호\",num)\n",
    "if num%2==0:\n",
    "    print(\"여성입니다.\")\n",
    "else:\n",
    "    print(\"남성입니다.\")\n",
    "print(\"프로그램을 종료합니다.\")"
   ]
  },
  {
   "cell_type": "code",
   "execution_count": 1,
   "id": "7ffa6361",
   "metadata": {},
   "outputs": [
    {
     "ename": "TurtleGraphicsError",
     "evalue": "Bad arguments for register_shape.\nUse  help(register_shape)",
     "output_type": "error",
     "traceback": [
      "\u001b[1;31m---------------------------------------------------------------------------\u001b[0m",
      "\u001b[1;31mTurtleGraphicsError\u001b[0m                       Traceback (most recent call last)",
      "\u001b[1;32m<ipython-input-1-3f0b361f64df>\u001b[0m in \u001b[0;36m<module>\u001b[1;34m\u001b[0m\n\u001b[0;32m      5\u001b[0m \u001b[0mimage2\u001b[0m \u001b[1;33m=\u001b[0m \u001b[1;34m\"학.jpg\"\u001b[0m\u001b[1;33m\u001b[0m\u001b[1;33m\u001b[0m\u001b[0m\n\u001b[0;32m      6\u001b[0m \u001b[1;33m\u001b[0m\u001b[0m\n\u001b[1;32m----> 7\u001b[1;33m \u001b[0mscr\u001b[0m\u001b[1;33m.\u001b[0m\u001b[0maddshape\u001b[0m\u001b[1;33m(\u001b[0m\u001b[0mimage1\u001b[0m\u001b[1;33m)\u001b[0m\u001b[1;33m\u001b[0m\u001b[1;33m\u001b[0m\u001b[0m\n\u001b[0m\u001b[0;32m      8\u001b[0m \u001b[0mscr\u001b[0m\u001b[1;33m.\u001b[0m\u001b[0maddshape\u001b[0m\u001b[1;33m(\u001b[0m\u001b[0mimage2\u001b[0m\u001b[1;33m)\u001b[0m\u001b[1;33m\u001b[0m\u001b[1;33m\u001b[0m\u001b[0m\n\u001b[0;32m      9\u001b[0m \u001b[0mnum\u001b[0m \u001b[1;33m=\u001b[0m \u001b[0mrandom\u001b[0m\u001b[1;33m.\u001b[0m\u001b[0mrandint\u001b[0m\u001b[1;33m(\u001b[0m\u001b[1;36m1\u001b[0m\u001b[1;33m,\u001b[0m\u001b[1;36m2\u001b[0m\u001b[1;33m)\u001b[0m\u001b[1;33m\u001b[0m\u001b[1;33m\u001b[0m\u001b[0m\n",
      "\u001b[1;32mC:\\ProgramData\\Anaconda3\\lib\\turtle.py\u001b[0m in \u001b[0;36mregister_shape\u001b[1;34m(self, name, shape)\u001b[0m\n\u001b[0;32m   1134\u001b[0m                 \u001b[0mshape\u001b[0m \u001b[1;33m=\u001b[0m \u001b[0mShape\u001b[0m\u001b[1;33m(\u001b[0m\u001b[1;34m\"image\"\u001b[0m\u001b[1;33m,\u001b[0m \u001b[0mself\u001b[0m\u001b[1;33m.\u001b[0m\u001b[0m_image\u001b[0m\u001b[1;33m(\u001b[0m\u001b[0mname\u001b[0m\u001b[1;33m)\u001b[0m\u001b[1;33m)\u001b[0m\u001b[1;33m\u001b[0m\u001b[1;33m\u001b[0m\u001b[0m\n\u001b[0;32m   1135\u001b[0m             \u001b[1;32melse\u001b[0m\u001b[1;33m:\u001b[0m\u001b[1;33m\u001b[0m\u001b[1;33m\u001b[0m\u001b[0m\n\u001b[1;32m-> 1136\u001b[1;33m                 raise TurtleGraphicsError(\"Bad arguments for register_shape.\\n\"\n\u001b[0m\u001b[0;32m   1137\u001b[0m                                           + \"Use  help(register_shape)\" )\n\u001b[0;32m   1138\u001b[0m         \u001b[1;32melif\u001b[0m \u001b[0misinstance\u001b[0m\u001b[1;33m(\u001b[0m\u001b[0mshape\u001b[0m\u001b[1;33m,\u001b[0m \u001b[0mtuple\u001b[0m\u001b[1;33m)\u001b[0m\u001b[1;33m:\u001b[0m\u001b[1;33m\u001b[0m\u001b[1;33m\u001b[0m\u001b[0m\n",
      "\u001b[1;31mTurtleGraphicsError\u001b[0m: Bad arguments for register_shape.\nUse  help(register_shape)"
     ]
    }
   ],
   "source": [
    "import random\n",
    "import turtle\n",
    "scr=turtle.Screen() #배경이미지 Screen객체?\n",
    "image1 = \"숫자.jpg\"\n",
    "image2 = \"학.jpg\"\n",
    "\n",
    "scr.addshape(image1)\n",
    "scr.addshape(image2)\n",
    "num = random.randint(1,2)\n",
    "scr.setup(300,300)\n",
    "if num==1:\n",
    "    scr.bgpic(\"image1\")\n",
    "else:\n",
    "    scr.bgpic(\"image1\")\n"
   ]
  },
  {
   "cell_type": "code",
   "execution_count": 11,
   "id": "a3255e5e",
   "metadata": {},
   "outputs": [
    {
     "name": "stdout",
     "output_type": "stream",
     "text": [
      "1번 전지가 있습니까? (Y/N)n\n",
      "2번 전지가 있습니까? (Y/N)n\n",
      "직렬연결:전구에 불이꺼집니다.\n",
      "병렬연결:전구에 불이꺼집니다.\n"
     ]
    }
   ],
   "source": [
    "eng1=input(\"1번 전지가 있습니까? (Y/N)\")\n",
    "eng2=input(\"2번 전지가 있습니까? (Y/N)\")\n",
    "db_eng1=\"y\"\n",
    "db_eng2=\"y\"\n",
    "if eng1==db_eng1 and eng2==db_eng2:\n",
    "    print(\"직렬연결:전구에 불이 켜집니다.\")\n",
    "    print(\"병렬연결:전구에 불이 켜집니다.\")\n",
    "elif eng1==db_eng2 or eng2==db_eng2:   \n",
    "    print(\"직렬연결:전구에 불이 꺼집니다.\")\n",
    "    print(\"병렬연결:전구에 불이 켜집니다.\")\n",
    "else:\n",
    "    print(\"직렬연결:전구에 불이꺼집니다.\")\n",
    "    print(\"병렬연결:전구에 불이꺼집니다.\")"
   ]
  },
  {
   "cell_type": "code",
   "execution_count": 16,
   "id": "c9df1a3a",
   "metadata": {},
   "outputs": [
    {
     "name": "stdout",
     "output_type": "stream",
     "text": [
      "연도를 입력하시오: 2020\n",
      "2020 년은 윤년입니다.\n"
     ]
    }
   ],
   "source": [
    "year= int(input(\"연도를 입력하시오: \"))\n",
    "db_year = year%4\n",
    "if db_year==0:\n",
    "    print(str(year)+\" 년은 윤년입니다.\")\n",
    "else:\n",
    "    print(str(year)+\" 년은 윤년아닙니다.\")"
   ]
  },
  {
   "cell_type": "code",
   "execution_count": 19,
   "id": "196a2ff1",
   "metadata": {},
   "outputs": [
    {
     "name": "stdout",
     "output_type": "stream",
     "text": [
      "a값 입력: 1\n",
      "b값 입력: 4\n",
      "c값 입력: 4\n",
      "방정식은 서로 다른 실근(중근)입니다.\n"
     ]
    }
   ],
   "source": [
    "a = int(input(\"a값 입력: \"))\n",
    "b = int(input(\"b값 입력: \"))\n",
    "c = int(input(\"c값 입력: \"))\n",
    "\n",
    "der=b**2-4*a*c\n",
    "\n",
    "if der>0:\n",
    "    print(\"방정식은 서로 다른 실근입니다.\")\n",
    "elif der==0:\n",
    "    print(\"방정식은 서로 다른 실근(중근)입니다.\")\n",
    "else:\n",
    "    print(\"방정식은 서로 다른 허근입니다.\")"
   ]
  },
  {
   "cell_type": "code",
   "execution_count": 20,
   "id": "6c057882",
   "metadata": {},
   "outputs": [
    {
     "name": "stdout",
     "output_type": "stream",
     "text": [
      "정수를 입력하시오: 2\n",
      "양수\n"
     ]
    }
   ],
   "source": [
    "'''5장 추가연습문제 1 번'''\n",
    "num = int(input(\"정수를 입력하시오: \"))\n",
    "if num>0:\n",
    "    print(\"양수\")\n",
    "elif num==0:\n",
    "    print(\"0\")\n",
    "else:\n",
    "    print(\"음수\")"
   ]
  },
  {
   "cell_type": "code",
   "execution_count": 24,
   "id": "9cd1c4af",
   "metadata": {},
   "outputs": [
    {
     "name": "stdout",
     "output_type": "stream",
     "text": [
      "국가를 입력하시오: 한국\n",
      "도를 입력하시오: 부산\n",
      "배송료는 5000원입니다.\n"
     ]
    }
   ],
   "source": [
    "nara=input(\"국가를 입력하시오: \")\n",
    "doo=input(\"도를 입력하시오: \")\n",
    "db_nara=\"한국\"\n",
    "db_doo=\"제주도\"\n",
    "if db_nara==nara:\n",
    "    if db_doo==doo:\n",
    "        print(\"배송료는 10000원입니다.\")\n",
    "    else:\n",
    "        print(\"배송료는 5000원입니다.\")\n",
    "else:\n",
    "    print(\"배송료는 20000원입니다.\")\n",
    "    "
   ]
  },
  {
   "cell_type": "code",
   "execution_count": 30,
   "id": "3948f2eb",
   "metadata": {},
   "outputs": [
    {
     "name": "stdout",
     "output_type": "stream",
     "text": [
      "2차 함수 : (a * x^2) + b*x + c\n",
      "a: 1\n",
      "b: 2\n",
      "c: 1\n",
      "중근이 있습니다. -1.0\n"
     ]
    }
   ],
   "source": [
    "print(\"2차 함수 : (a * x^2) + b*x + c\")\n",
    "a = int(input(\"a: \"))\n",
    "b = int(input(\"b: \"))\n",
    "c = int(input(\"c: \"))\n",
    "der=b**2-4*a*c\n",
    "der1=(-b+(b**2-4*a*c)**0.5)/(2*a)\n",
    "der2=(-b-(b**2-4*a*c)**0.5)/(2*a)\n",
    "if der>0:\n",
    "    print(\"2개의  실근이 있습니다.\",der1,\"와 \",der2)\n",
    "elif der==0:\n",
    "    print(\"중근이 있습니다.\",der1)\n",
    "else:\n",
    "    print(\"2개의  실근이 있습니다.\",der1,\"와 \",der2)"
   ]
  },
  {
   "cell_type": "code",
   "execution_count": null,
   "id": "db7ae6cf",
   "metadata": {},
   "outputs": [],
   "source": []
  },
  {
   "cell_type": "code",
   "execution_count": null,
   "id": "841c6844",
   "metadata": {},
   "outputs": [],
   "source": []
  },
  {
   "cell_type": "code",
   "execution_count": null,
   "id": "f90a42a2",
   "metadata": {},
   "outputs": [],
   "source": []
  }
 ],
 "metadata": {
  "kernelspec": {
   "display_name": "Python 3",
   "language": "python",
   "name": "python3"
  },
  "language_info": {
   "codemirror_mode": {
    "name": "ipython",
    "version": 3
   },
   "file_extension": ".py",
   "mimetype": "text/x-python",
   "name": "python",
   "nbconvert_exporter": "python",
   "pygments_lexer": "ipython3",
   "version": "3.8.8"
  }
 },
 "nbformat": 4,
 "nbformat_minor": 5
}

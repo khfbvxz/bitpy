{
 "cells": [
  {
   "cell_type": "code",
   "execution_count": 1,
   "id": "a7be3778",
   "metadata": {
    "scrolled": true
   },
   "outputs": [
    {
     "name": "stdout",
     "output_type": "stream",
     "text": [
      "방문을 환영합니다.\n",
      "방문을 환영합니다.\n",
      "방문을 환영합니다.\n",
      "방문을 환영합니다.\n",
      "방문을 환영합니다.\n"
     ]
    }
   ],
   "source": [
    "''' for 변수 in range(종료값)'''\n",
    "for i in range(5):\n",
    "    print(\"방문을 환영합니다.\")"
   ]
  },
  {
   "cell_type": "code",
   "execution_count": 2,
   "id": "29d7e6d0",
   "metadata": {},
   "outputs": [
    {
     "name": "stdout",
     "output_type": "stream",
     "text": [
      "12345"
     ]
    }
   ],
   "source": [
    "''' range(start,stop,step)'''\n",
    "for i in range(1,6,1):\n",
    "    print(i,end=\"\")"
   ]
  },
  {
   "cell_type": "code",
   "execution_count": 3,
   "id": "7140cc35",
   "metadata": {},
   "outputs": [
    {
     "name": "stdout",
     "output_type": "stream",
     "text": [
      "10987654321"
     ]
    }
   ],
   "source": [
    "for i in range(10,0,-1):\n",
    "    print(i,end=\"\")"
   ]
  },
  {
   "cell_type": "code",
   "execution_count": 4,
   "id": "39a6c0f1",
   "metadata": {},
   "outputs": [
    {
     "name": "stdout",
     "output_type": "stream",
     "text": [
      "1부터 100까지의 합은 5050 입니다.\n"
     ]
    }
   ],
   "source": [
    "sum = 0\n",
    "for i in range(1,101):\n",
    "    sum+=i\n",
    "print(\"1부터 100까지의 합은\",sum,\"입니다.\")"
   ]
  },
  {
   "cell_type": "code",
   "execution_count": 7,
   "id": "f2565831",
   "metadata": {},
   "outputs": [
    {
     "name": "stdout",
     "output_type": "stream",
     "text": [
      "정수를 입력하시오10\n",
      "10 !은 3628800 이다.\n"
     ]
    }
   ],
   "source": [
    "n = int( input(\"정수를 입력하시오\"))\n",
    "fact =1 \n",
    "\n",
    "for a in range(1,n+1):\n",
    "    fact*=a\n",
    "print(n,\"!은\",fact,\"이다.\")"
   ]
  },
  {
   "cell_type": "code",
   "execution_count": 8,
   "id": "3d407a2e",
   "metadata": {},
   "outputs": [
    {
     "name": "stdout",
     "output_type": "stream",
     "text": [
      "엄마, 다됐어?아니\n",
      "엄마, 다됐어?아니\n",
      "엄마, 다됐어?아니\n",
      "엄마, 다됐어?먹자\n",
      "먹자\n"
     ]
    }
   ],
   "source": [
    "response = \"아니\"\n",
    "while response==\"아니\":\n",
    "    response=input(\"엄마, 다됐어?\");\n",
    "print(\"먹자\")"
   ]
  },
  {
   "cell_type": "code",
   "execution_count": 9,
   "id": "559ea641",
   "metadata": {},
   "outputs": [
    {
     "name": "stdout",
     "output_type": "stream",
     "text": [
      "1부터 100까지의 합은 5050 입니다.\n"
     ]
    }
   ],
   "source": [
    "count =1\n",
    "sum=0\n",
    "while count<=100:\n",
    "    sum+=count\n",
    "    count+=1\n",
    "print(\"1부터 100까지의 합은\",sum,\"입니다.\")"
   ]
  },
  {
   "cell_type": "code",
   "execution_count": 11,
   "id": "8138af2f",
   "metadata": {},
   "outputs": [
    {
     "name": "stdout",
     "output_type": "stream",
     "text": [
      "암호를 입력하시오: qfasf\n",
      "암호를 입력하시오: ad\n",
      "암호를 입력하시오: python\n",
      "로그인 성공\n"
     ]
    }
   ],
   "source": [
    "password = \"\"\n",
    "while password!=\"python\":\n",
    "    password=input(\"암호를 입력하시오: \")\n",
    "print(\"로그인 성공\")"
   ]
  },
  {
   "cell_type": "code",
   "execution_count": 12,
   "id": "be0d2e1a",
   "metadata": {},
   "outputs": [
    {
     "name": "stdout",
     "output_type": "stream",
     "text": [
      "**********\n",
      "**********\n",
      "**********\n",
      "**********\n",
      "**********\n"
     ]
    }
   ],
   "source": [
    "for i in range(5):\n",
    "    for j in range(10):\n",
    "        print(\"*\",end=\"\")\n",
    "    print(\"\")"
   ]
  },
  {
   "cell_type": "code",
   "execution_count": 13,
   "id": "ef3a96d7",
   "metadata": {},
   "outputs": [
    {
     "name": "stdout",
     "output_type": "stream",
     "text": [
      "*\n",
      "**\n",
      "***\n",
      "****\n",
      "*****\n"
     ]
    }
   ],
   "source": [
    "for i in range(1,6):\n",
    "    for j in range(1,i+1):\n",
    "        print(\"*\",end=\"\")\n",
    "    print(\"\")"
   ]
  },
  {
   "cell_type": "code",
   "execution_count": 17,
   "id": "100004d6",
   "metadata": {},
   "outputs": [
    {
     "name": "stdout",
     "output_type": "stream",
     "text": [
      "신호등 색상을 입력하시오: blue\n",
      "전진\n"
     ]
    }
   ],
   "source": [
    "''' 무한 반복'''\n",
    "sign = True\n",
    "while sign:\n",
    "    light = input(\"신호등 색상을 입력하시오: \")\n",
    "    if light=='blue':\n",
    "        sign = False\n",
    "        \n",
    "print(\"전진\")"
   ]
  },
  {
   "cell_type": "code",
   "execution_count": 18,
   "id": "35d0713e",
   "metadata": {},
   "outputs": [
    {
     "name": "stdout",
     "output_type": "stream",
     "text": [
      "신호등 색상을 입력하시오: blue\n",
      "전진\n"
     ]
    }
   ],
   "source": [
    "''' break continue'''\n",
    "while True:\n",
    "    light = input(\"신호등 색상을 입력하시오: \")\n",
    "    if light=='blue':\n",
    "        break\n",
    "     \n",
    "print(\"전진\")"
   ]
  },
  {
   "cell_type": "code",
   "execution_count": 19,
   "id": "95a52f17",
   "metadata": {},
   "outputs": [
    {
     "name": "stdout",
     "output_type": "stream",
     "text": [
      "1\n",
      "3\n",
      "5\n",
      "7\n",
      "9\n"
     ]
    }
   ],
   "source": [
    "for n in range(10):\n",
    "    if n % 2 ==0:\n",
    "        continue\n",
    "    print(n)"
   ]
  },
  {
   "cell_type": "code",
   "execution_count": 21,
   "id": "f84616b6",
   "metadata": {},
   "outputs": [],
   "source": [
    "'''lab 1qjs'''\n",
    "import turtle\n",
    "t=turtle.Turtle()\n",
    "for i in range(6):\n",
    "    t.circle(100)\n",
    "    t.left(60)\n"
   ]
  },
  {
   "cell_type": "code",
   "execution_count": 1,
   "id": "757d3204",
   "metadata": {},
   "outputs": [
    {
     "name": "stdout",
     "output_type": "stream",
     "text": [
      "A - B\n",
      "- C - D\n",
      "- C - D\n"
     ]
    }
   ],
   "source": [
    "'''도돌이표'''\n",
    "for i in range(2):\n",
    "    print(\"- C - D\")"
   ]
  },
  {
   "cell_type": "code",
   "execution_count": 1,
   "id": "353158a9",
   "metadata": {},
   "outputs": [],
   "source": [
    "import turtle\n",
    "t=turtle.Turtle()\n",
    "num=turtle.textinput(\"\",\"몇 각형을 원하시나요: \")\n",
    "t.shape(\"turtle\")\n",
    "\n",
    "num2=int(num)\n",
    "ang=180*(num2-2)\n",
    "for num in range(num2):\n",
    "    t.forward(100)\n",
    "    t.left(180-(ang/num2))\n"
   ]
  },
  {
   "cell_type": "code",
   "execution_count": 4,
   "id": "cbca67c5",
   "metadata": {
    "scrolled": true
   },
   "outputs": [
    {
     "ename": "TclError",
     "evalue": "invalid command name \".!canvas\"",
     "output_type": "error",
     "traceback": [
      "\u001b[1;31m---------------------------------------------------------------------------\u001b[0m",
      "\u001b[1;31mTclError\u001b[0m                                  Traceback (most recent call last)",
      "\u001b[1;32m<ipython-input-4-f0bcf607e72e>\u001b[0m in \u001b[0;36m<module>\u001b[1;34m\u001b[0m\n\u001b[0;32m      7\u001b[0m \u001b[0mnum2\u001b[0m \u001b[1;33m=\u001b[0m \u001b[0mrandom\u001b[0m\u001b[1;33m.\u001b[0m\u001b[0mrandint\u001b[0m\u001b[1;33m(\u001b[0m\u001b[1;36m1\u001b[0m\u001b[1;33m,\u001b[0m\u001b[1;36m360\u001b[0m\u001b[1;33m)\u001b[0m  \u001b[1;31m# 각도\u001b[0m\u001b[1;33m\u001b[0m\u001b[1;33m\u001b[0m\u001b[0m\n\u001b[0;32m      8\u001b[0m \u001b[1;32mwhile\u001b[0m \u001b[0mnum\u001b[0m\u001b[1;33m:\u001b[0m\u001b[1;33m\u001b[0m\u001b[1;33m\u001b[0m\u001b[0m\n\u001b[1;32m----> 9\u001b[1;33m     \u001b[0mt\u001b[0m\u001b[1;33m.\u001b[0m\u001b[0mforward\u001b[0m\u001b[1;33m(\u001b[0m\u001b[0mnum1\u001b[0m\u001b[1;33m)\u001b[0m\u001b[1;33m\u001b[0m\u001b[1;33m\u001b[0m\u001b[0m\n\u001b[0m\u001b[0;32m     10\u001b[0m     \u001b[0mt\u001b[0m\u001b[1;33m.\u001b[0m\u001b[0mleft\u001b[0m\u001b[1;33m(\u001b[0m\u001b[0mnum2\u001b[0m\u001b[1;33m)\u001b[0m\u001b[1;33m\u001b[0m\u001b[1;33m\u001b[0m\u001b[0m\n",
      "\u001b[1;32mC:\\ProgramData\\Anaconda3\\lib\\turtle.py\u001b[0m in \u001b[0;36mforward\u001b[1;34m(self, distance)\u001b[0m\n\u001b[0;32m   1636\u001b[0m         \u001b[1;33m(\u001b[0m\u001b[1;33m-\u001b[0m\u001b[1;36m50.00\u001b[0m\u001b[1;33m,\u001b[0m\u001b[1;36m0.00\u001b[0m\u001b[1;33m)\u001b[0m\u001b[1;33m\u001b[0m\u001b[1;33m\u001b[0m\u001b[0m\n\u001b[0;32m   1637\u001b[0m         \"\"\"\n\u001b[1;32m-> 1638\u001b[1;33m         \u001b[0mself\u001b[0m\u001b[1;33m.\u001b[0m\u001b[0m_go\u001b[0m\u001b[1;33m(\u001b[0m\u001b[0mdistance\u001b[0m\u001b[1;33m)\u001b[0m\u001b[1;33m\u001b[0m\u001b[1;33m\u001b[0m\u001b[0m\n\u001b[0m\u001b[0;32m   1639\u001b[0m \u001b[1;33m\u001b[0m\u001b[0m\n\u001b[0;32m   1640\u001b[0m     \u001b[1;32mdef\u001b[0m \u001b[0mback\u001b[0m\u001b[1;33m(\u001b[0m\u001b[0mself\u001b[0m\u001b[1;33m,\u001b[0m \u001b[0mdistance\u001b[0m\u001b[1;33m)\u001b[0m\u001b[1;33m:\u001b[0m\u001b[1;33m\u001b[0m\u001b[1;33m\u001b[0m\u001b[0m\n",
      "\u001b[1;32mC:\\ProgramData\\Anaconda3\\lib\\turtle.py\u001b[0m in \u001b[0;36m_go\u001b[1;34m(self, distance)\u001b[0m\n\u001b[0;32m   1604\u001b[0m         \u001b[1;34m\"\"\"move turtle forward by specified distance\"\"\"\u001b[0m\u001b[1;33m\u001b[0m\u001b[1;33m\u001b[0m\u001b[0m\n\u001b[0;32m   1605\u001b[0m         \u001b[0mende\u001b[0m \u001b[1;33m=\u001b[0m \u001b[0mself\u001b[0m\u001b[1;33m.\u001b[0m\u001b[0m_position\u001b[0m \u001b[1;33m+\u001b[0m \u001b[0mself\u001b[0m\u001b[1;33m.\u001b[0m\u001b[0m_orient\u001b[0m \u001b[1;33m*\u001b[0m \u001b[0mdistance\u001b[0m\u001b[1;33m\u001b[0m\u001b[1;33m\u001b[0m\u001b[0m\n\u001b[1;32m-> 1606\u001b[1;33m         \u001b[0mself\u001b[0m\u001b[1;33m.\u001b[0m\u001b[0m_goto\u001b[0m\u001b[1;33m(\u001b[0m\u001b[0mende\u001b[0m\u001b[1;33m)\u001b[0m\u001b[1;33m\u001b[0m\u001b[1;33m\u001b[0m\u001b[0m\n\u001b[0m\u001b[0;32m   1607\u001b[0m \u001b[1;33m\u001b[0m\u001b[0m\n\u001b[0;32m   1608\u001b[0m     \u001b[1;32mdef\u001b[0m \u001b[0m_rotate\u001b[0m\u001b[1;33m(\u001b[0m\u001b[0mself\u001b[0m\u001b[1;33m,\u001b[0m \u001b[0mangle\u001b[0m\u001b[1;33m)\u001b[0m\u001b[1;33m:\u001b[0m\u001b[1;33m\u001b[0m\u001b[1;33m\u001b[0m\u001b[0m\n",
      "\u001b[1;32mC:\\ProgramData\\Anaconda3\\lib\\turtle.py\u001b[0m in \u001b[0;36m_goto\u001b[1;34m(self, end)\u001b[0m\n\u001b[0;32m   3157\u001b[0m                       (self.currentLineItem,\n\u001b[0;32m   3158\u001b[0m                       \u001b[0mself\u001b[0m\u001b[1;33m.\u001b[0m\u001b[0mcurrentLine\u001b[0m\u001b[1;33m[\u001b[0m\u001b[1;33m:\u001b[0m\u001b[1;33m]\u001b[0m\u001b[1;33m,\u001b[0m\u001b[1;33m\u001b[0m\u001b[1;33m\u001b[0m\u001b[0m\n\u001b[1;32m-> 3159\u001b[1;33m                       \u001b[0mscreen\u001b[0m\u001b[1;33m.\u001b[0m\u001b[0m_pointlist\u001b[0m\u001b[1;33m(\u001b[0m\u001b[0mself\u001b[0m\u001b[1;33m.\u001b[0m\u001b[0mcurrentLineItem\u001b[0m\u001b[1;33m)\u001b[0m\u001b[1;33m,\u001b[0m\u001b[1;33m\u001b[0m\u001b[1;33m\u001b[0m\u001b[0m\n\u001b[0m\u001b[0;32m   3160\u001b[0m                       self.items[:])\n\u001b[0;32m   3161\u001b[0m                       )\n",
      "\u001b[1;32mC:\\ProgramData\\Anaconda3\\lib\\turtle.py\u001b[0m in \u001b[0;36m_pointlist\u001b[1;34m(self, item)\u001b[0m\n\u001b[0;32m    754\u001b[0m         (9.9999999999999982, 0.0)]\n\u001b[0;32m    755\u001b[0m         >>> \"\"\"\n\u001b[1;32m--> 756\u001b[1;33m         \u001b[0mcl\u001b[0m \u001b[1;33m=\u001b[0m \u001b[0mself\u001b[0m\u001b[1;33m.\u001b[0m\u001b[0mcv\u001b[0m\u001b[1;33m.\u001b[0m\u001b[0mcoords\u001b[0m\u001b[1;33m(\u001b[0m\u001b[0mitem\u001b[0m\u001b[1;33m)\u001b[0m\u001b[1;33m\u001b[0m\u001b[1;33m\u001b[0m\u001b[0m\n\u001b[0m\u001b[0;32m    757\u001b[0m         \u001b[0mpl\u001b[0m \u001b[1;33m=\u001b[0m \u001b[1;33m[\u001b[0m\u001b[1;33m(\u001b[0m\u001b[0mcl\u001b[0m\u001b[1;33m[\u001b[0m\u001b[0mi\u001b[0m\u001b[1;33m]\u001b[0m\u001b[1;33m,\u001b[0m \u001b[1;33m-\u001b[0m\u001b[0mcl\u001b[0m\u001b[1;33m[\u001b[0m\u001b[0mi\u001b[0m\u001b[1;33m+\u001b[0m\u001b[1;36m1\u001b[0m\u001b[1;33m]\u001b[0m\u001b[1;33m)\u001b[0m \u001b[1;32mfor\u001b[0m \u001b[0mi\u001b[0m \u001b[1;32min\u001b[0m \u001b[0mrange\u001b[0m\u001b[1;33m(\u001b[0m\u001b[1;36m0\u001b[0m\u001b[1;33m,\u001b[0m \u001b[0mlen\u001b[0m\u001b[1;33m(\u001b[0m\u001b[0mcl\u001b[0m\u001b[1;33m)\u001b[0m\u001b[1;33m,\u001b[0m \u001b[1;36m2\u001b[0m\u001b[1;33m)\u001b[0m\u001b[1;33m]\u001b[0m\u001b[1;33m\u001b[0m\u001b[1;33m\u001b[0m\u001b[0m\n\u001b[0;32m    758\u001b[0m         \u001b[1;32mreturn\u001b[0m  \u001b[0mpl\u001b[0m\u001b[1;33m\u001b[0m\u001b[1;33m\u001b[0m\u001b[0m\n",
      "\u001b[1;32m<string>\u001b[0m in \u001b[0;36mcoords\u001b[1;34m(self, *args, **kw)\u001b[0m\n",
      "\u001b[1;32mC:\\ProgramData\\Anaconda3\\lib\\tkinter\\__init__.py\u001b[0m in \u001b[0;36mcoords\u001b[1;34m(self, *args)\u001b[0m\n\u001b[0;32m   2764\u001b[0m         return [self.tk.getdouble(x) for x in\n\u001b[0;32m   2765\u001b[0m                            self.tk.splitlist(\n\u001b[1;32m-> 2766\u001b[1;33m                    self.tk.call((self._w, 'coords') + args))]\n\u001b[0m\u001b[0;32m   2767\u001b[0m \u001b[1;33m\u001b[0m\u001b[0m\n\u001b[0;32m   2768\u001b[0m     \u001b[1;32mdef\u001b[0m \u001b[0m_create\u001b[0m\u001b[1;33m(\u001b[0m\u001b[0mself\u001b[0m\u001b[1;33m,\u001b[0m \u001b[0mitemType\u001b[0m\u001b[1;33m,\u001b[0m \u001b[0margs\u001b[0m\u001b[1;33m,\u001b[0m \u001b[0mkw\u001b[0m\u001b[1;33m)\u001b[0m\u001b[1;33m:\u001b[0m \u001b[1;31m# Args: (val, val, ..., cnf={})\u001b[0m\u001b[1;33m\u001b[0m\u001b[1;33m\u001b[0m\u001b[0m\n",
      "\u001b[1;31mTclError\u001b[0m: invalid command name \".!canvas\""
     ]
    }
   ],
   "source": [
    "'''랜덤 워크 시뮬 '''\n",
    "import random\n",
    "import turtle\n",
    "t=turtle.Turtle()\n",
    "num = random.randint(1,10)    # 반복 횟수\n",
    "num1 = random.randint(10,100) # 이동거리\n",
    "num2 = random.randint(1,360)  # 각도\n",
    "while num:\n",
    "    t.forward(num1)\n",
    "    t.left(num2)"
   ]
  },
  {
   "cell_type": "code",
   "execution_count": 37,
   "id": "a31a21cc",
   "metadata": {},
   "outputs": [
    {
     "name": "stdout",
     "output_type": "stream",
     "text": [
      "범인의 방은 어디인가요?:3\n",
      "틀렸습니다.\n",
      "범인의 방은 어디인가요?:2\n",
      "맞았습니다. 90\n"
     ]
    }
   ],
   "source": [
    "'''범인찾기'''\n",
    "import random\n",
    "num = random.randint(1,3)\n",
    "count=0\n",
    "n=0\n",
    "while n != num:\n",
    "    n = int(input(\"범인의 방은 어디인가요?:\"))\n",
    "    if n == num:\n",
    "        count+=100\n",
    "        break\n",
    "    print(\"틀렸습니다.\")\n",
    "    count-=10\n",
    "    \n",
    "print(\"맞았습니다.\",count)"
   ]
  },
  {
   "cell_type": "code",
   "execution_count": 1,
   "id": "1a85010c",
   "metadata": {},
   "outputs": [
    {
     "ename": "AttributeError",
     "evalue": "'Turtle' object has no attribute 'getheading'",
     "output_type": "error",
     "traceback": [
      "\u001b[1;31m---------------------------------------------------------------------------\u001b[0m",
      "\u001b[1;31mAttributeError\u001b[0m                            Traceback (most recent call last)",
      "\u001b[1;32m<ipython-input-1-7994c04c9c8b>\u001b[0m in \u001b[0;36m<module>\u001b[1;34m\u001b[0m\n\u001b[0;32m     17\u001b[0m         \u001b[0mt\u001b[0m\u001b[1;33m.\u001b[0m\u001b[0mforward\u001b[0m\u001b[1;33m(\u001b[0m\u001b[0mlength\u001b[0m\u001b[1;33m)\u001b[0m\u001b[1;33m\u001b[0m\u001b[1;33m\u001b[0m\u001b[0m\n\u001b[0;32m     18\u001b[0m         \u001b[0mt\u001b[0m\u001b[1;33m.\u001b[0m\u001b[0mright\u001b[0m\u001b[1;33m(\u001b[0m\u001b[1;36m90\u001b[0m\u001b[1;33m)\u001b[0m\u001b[1;33m\u001b[0m\u001b[1;33m\u001b[0m\u001b[0m\n\u001b[1;32m---> 19\u001b[1;33m         \u001b[0mt\u001b[0m\u001b[1;33m.\u001b[0m\u001b[0mgetheading\u001b[0m\u001b[1;33m(\u001b[0m\u001b[1;36m0\u001b[0m\u001b[1;33m)\u001b[0m\u001b[1;33m\u001b[0m\u001b[1;33m\u001b[0m\u001b[0m\n\u001b[0m\u001b[0;32m     20\u001b[0m         \u001b[0mt\u001b[0m\u001b[1;33m.\u001b[0m\u001b[0mend_fill\u001b[0m\u001b[1;33m(\u001b[0m\u001b[1;33m)\u001b[0m\u001b[1;33m\u001b[0m\u001b[1;33m\u001b[0m\u001b[0m\n\u001b[0;32m     21\u001b[0m \u001b[1;33m\u001b[0m\u001b[0m\n",
      "\u001b[1;31mAttributeError\u001b[0m: 'Turtle' object has no attribute 'getheading'"
     ]
    }
   ],
   "source": [
    "'''몬트리안 터틀 아직'''\n",
    "import turtle,random\n",
    "t=turtle.Turtle()\n",
    "e=random.randint(1,20)\n",
    "for i in range(e):\n",
    "    x=random.randint(-300,300)\n",
    "    y=random.randint(-300,300)\n",
    "    length=random.randint(10,300)\n",
    "    r = random.random()\n",
    "    g = random.random()\n",
    "    b = random.random()\n",
    "    t.penup()\n",
    "    t.goto(x,y)\n",
    "    for j in range(4):\n",
    "        t.color(r,g,b)\n",
    "        t.begin_fill()\n",
    "        t.forward(length)\n",
    "        t.right(90)\n",
    "        t.getheading(0)\n",
    "        t.end_fill()\n",
    "    \n",
    "  \n",
    "    \n"
   ]
  },
  {
   "cell_type": "code",
   "execution_count": 37,
   "id": "3b1c62b5",
   "metadata": {},
   "outputs": [
    {
     "name": "stdout",
     "output_type": "stream",
     "text": [
      "자연수를 입력:4\n",
      "1 2 4 "
     ]
    }
   ],
   "source": [
    "'''모든약수'''\n",
    "num = int(input(\"자연수를 입력:\"))\n",
    "data=[]\n",
    "for i in range(1,num+1): \n",
    "    if num%i== 0:\n",
    "        print(i, end=\" \")\n",
    "    "
   ]
  },
  {
   "cell_type": "code",
   "execution_count": 53,
   "id": "192afede",
   "metadata": {},
   "outputs": [
    {
     "ename": "SyntaxError",
     "evalue": "invalid syntax (<ipython-input-53-a0f364ef657c>, line 11)",
     "output_type": "error",
     "traceback": [
      "\u001b[1;36m  File \u001b[1;32m\"<ipython-input-53-a0f364ef657c>\"\u001b[1;36m, line \u001b[1;32m11\u001b[0m\n\u001b[1;33m    while(r!=0)\u001b[0m\n\u001b[1;37m               ^\u001b[0m\n\u001b[1;31mSyntaxError\u001b[0m\u001b[1;31m:\u001b[0m invalid syntax\n"
     ]
    }
   ],
   "source": [
    "'''최대공약수 아직''' \n",
    "a=int(input(\"정수1 입력:\"))\n",
    "b=int(input(\"정수2 입력:\"))\n",
    "\n",
    "if b>a:\n",
    "    big=b\n",
    "    small=a\n",
    "else:\n",
    "    big=a\n",
    "    small=b\n",
    "while(small !=0)\n",
    "    q=big/small\n",
    "    r=big%small\n",
    "    \n",
    "    big=small\n",
    "    small=r\n",
    "if(small==1):\n",
    "    print(\"서로소이다.\")\n",
    "else:\n",
    "    print(\"두 수의 최대공약수:\",small)\n"
   ]
  },
  {
   "cell_type": "code",
   "execution_count": 3,
   "id": "0fa980ad",
   "metadata": {},
   "outputs": [
    {
     "ename": "AttributeError",
     "evalue": "'Turtle' object has no attribute 'getheading'",
     "output_type": "error",
     "traceback": [
      "\u001b[1;31m---------------------------------------------------------------------------\u001b[0m",
      "\u001b[1;31mAttributeError\u001b[0m                            Traceback (most recent call last)",
      "\u001b[1;32m<ipython-input-3-fcca5f422b3b>\u001b[0m in \u001b[0;36m<module>\u001b[1;34m\u001b[0m\n\u001b[0;32m      6\u001b[0m     \u001b[0mt\u001b[0m\u001b[1;33m.\u001b[0m\u001b[0mforward\u001b[0m\u001b[1;33m(\u001b[0m\u001b[1;36m100\u001b[0m\u001b[1;33m)\u001b[0m\u001b[1;33m\u001b[0m\u001b[1;33m\u001b[0m\u001b[0m\n\u001b[0;32m      7\u001b[0m     \u001b[0mt\u001b[0m\u001b[1;33m.\u001b[0m\u001b[0mright\u001b[0m\u001b[1;33m(\u001b[0m\u001b[1;36m180\u001b[0m\u001b[1;33m-\u001b[0m\u001b[1;36m36\u001b[0m\u001b[1;33m)\u001b[0m\u001b[1;33m\u001b[0m\u001b[1;33m\u001b[0m\u001b[0m\n\u001b[1;32m----> 8\u001b[1;33m \u001b[0mt\u001b[0m\u001b[1;33m.\u001b[0m\u001b[0mgetheading\u001b[0m\u001b[1;33m(\u001b[0m\u001b[1;36m0\u001b[0m\u001b[1;33m)\u001b[0m\u001b[1;33m\u001b[0m\u001b[1;33m\u001b[0m\u001b[0m\n\u001b[0m",
      "\u001b[1;31mAttributeError\u001b[0m: 'Turtle' object has no attribute 'getheading'"
     ]
    }
   ],
   "source": [
    "'''별 그리는 터틀'''\n",
    "import turtle\n",
    "t=turtle.Turtle()\n",
    "t.shape(\"turtle\")\n",
    "for i in range(5):\n",
    "    t.forward(100)\n",
    "    t.right(180-36)\n",
    "t.getheading(0)\n"
   ]
  },
  {
   "cell_type": "code",
   "execution_count": 16,
   "id": "57faf4b4",
   "metadata": {},
   "outputs": [
    {
     "name": "stdout",
     "output_type": "stream",
     "text": [
      "1부터 100 사이의 숫자를 맞추시오\n",
      "숫자를 입력하시오: 50\n",
      "높음!\n",
      "숫자를 입력하시오: 30\n",
      "높음!\n",
      "숫자를 입력하시오: 20\n",
      "낮음!\n",
      "숫자를 입력하시오: 25\n",
      "높음!\n",
      "숫자를 입력하시오: 23\n",
      "높음!\n",
      "숫자를 입력하시오: 22\n",
      "축하합니다. 시도횟수 6\n"
     ]
    }
   ],
   "source": [
    "'''숫자맞추기'''\n",
    "import random\n",
    "num = random.randint(1,100)\n",
    "db_num=str(num)\n",
    "count=0\n",
    "num1=\"\"\n",
    "print(\"1부터 100 사이의 숫자를 맞추시오\")\n",
    "while num1!=db_num:\n",
    "    num1 = input(\"숫자를 입력하시오: \")\n",
    "    count+=1\n",
    "    if int(num1)<num:\n",
    "        print(\"낮음!\");\n",
    "    elif int(num1)>num:\n",
    "        print(\"높음!\");\n",
    "    else:\n",
    "        print(\"축하합니다. 시도횟수\",count)\n",
    "        "
   ]
  },
  {
   "cell_type": "code",
   "execution_count": 20,
   "id": "3452dcd0",
   "metadata": {},
   "outputs": [
    {
     "name": "stdout",
     "output_type": "stream",
     "text": [
      "2*9는4\n",
      "2*9는18\n",
      "맞았습니다.\n"
     ]
    }
   ],
   "source": [
    "''' 추가 연습문제 1번'''\n",
    "import random  # 곱셈 법위 구구단\n",
    "num1 = random.randint(2,9)\n",
    "num2 = random.randint(2,9)\n",
    "db_num1=str(num1*num2)\n",
    "num=0\n",
    "while num != db_num1:\n",
    "    num = int(input(str(num1)+\"*\"+str(num2)+\"는\"))\n",
    "    if num == (num1*num2):\n",
    "        break\n",
    "print(\"맞았습니다.\")"
   ]
  },
  {
   "cell_type": "code",
   "execution_count": 50,
   "id": "c5bf8f9e",
   "metadata": {},
   "outputs": [
    {
     "name": "stdout",
     "output_type": "stream",
     "text": [
      "첫번째 주사위=  4  두번째 주사위=  1\n",
      "첫번째 주사위=  2  두번째 주사위=  4\n",
      "첫번째 주사위=  1  두번째 주사위=  2\n"
     ]
    }
   ],
   "source": [
    "''' 추가 연습문제 2번'''\n",
    "import random  \n",
    "for i in range(3):\n",
    "    num1 = random.randint(1,6)\n",
    "    num2 = random.randint(1,6)\n",
    "    print(\"첫번째 주사위= \",num1,\" 두번째 주사위= \",num2)"
   ]
  },
  {
   "cell_type": "code",
   "execution_count": 3,
   "id": "d83f4801",
   "metadata": {},
   "outputs": [],
   "source": [
    "''' 추가 연습문제 3번'''\n",
    "import turtle\n",
    "t=turtle.Turtle()\n",
    "t.shape(\"turtle\")\n",
    "t.setheading(30)\n",
    "for i in range(6):\n",
    "    t.forward(100); t.forward(-30);t.left(60);t.forward(30);t.forward(-30)\n",
    "    t.right(120);t.forward(30);t.forward(-30);t.left(60);t.forward(-70)\n",
    "    t.left(60)\n",
    "t.setheading(90)"
   ]
  },
  {
   "cell_type": "code",
   "execution_count": 1,
   "id": "0c6ef48e",
   "metadata": {},
   "outputs": [],
   "source": [
    "''' 추가 연습문제 4번'''\n",
    "import turtle\n",
    "import math\n",
    "t=turtle.Turtle()\n",
    "t.shape(\"turtle\")\n",
    "\n",
    "for i in range(360):\n",
    "    sine = math.sin(math.pi*i/180)\n",
    "    t.goto(i,sine*100)\n"
   ]
  },
  {
   "cell_type": "code",
   "execution_count": null,
   "id": "5985075b",
   "metadata": {},
   "outputs": [],
   "source": []
  }
 ],
 "metadata": {
  "kernelspec": {
   "display_name": "Python 3",
   "language": "python",
   "name": "python3"
  },
  "language_info": {
   "codemirror_mode": {
    "name": "ipython",
    "version": 3
   },
   "file_extension": ".py",
   "mimetype": "text/x-python",
   "name": "python",
   "nbconvert_exporter": "python",
   "pygments_lexer": "ipython3",
   "version": "3.8.8"
  }
 },
 "nbformat": 4,
 "nbformat_minor": 5
}

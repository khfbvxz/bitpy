{
 "cells": [
  {
   "cell_type": "code",
   "execution_count": 3,
   "id": "6d2933a2",
   "metadata": {},
   "outputs": [
    {
     "name": "stdout",
     "output_type": "stream",
     "text": [
      "x=  10\n",
      "x=  3.14\n",
      "x=, Hello,world!\n"
     ]
    }
   ],
   "source": [
    "x =10\n",
    "print(\"x= \",x)\n",
    "\n",
    "x = 3.14\n",
    "print(\"x= \",x)\n",
    "\n",
    "x = \"Hello,world!\"\n",
    "print(\"x=,\",x)"
   ]
  },
  {
   "cell_type": "code",
   "execution_count": 4,
   "id": "f869ad61",
   "metadata": {},
   "outputs": [
    {
     "name": "stdout",
     "output_type": "stream",
     "text": [
      "123\n"
     ]
    }
   ],
   "source": [
    "x=123\n",
    "print(x)"
   ]
  },
  {
   "cell_type": "code",
   "execution_count": 5,
   "id": "065d049f",
   "metadata": {},
   "outputs": [
    {
     "data": {
      "text/plain": [
       "int"
      ]
     },
     "execution_count": 5,
     "metadata": {},
     "output_type": "execute_result"
    }
   ],
   "source": [
    "type(x)"
   ]
  },
  {
   "cell_type": "code",
   "execution_count": 6,
   "id": "90fb8cb4",
   "metadata": {},
   "outputs": [
    {
     "name": "stdout",
     "output_type": "stream",
     "text": [
      "-123\n"
     ]
    },
    {
     "data": {
      "text/plain": [
       "int"
      ]
     },
     "execution_count": 6,
     "metadata": {},
     "output_type": "execute_result"
    }
   ],
   "source": [
    "x=-123\n",
    "print(x)\n",
    "type(x)"
   ]
  },
  {
   "cell_type": "code",
   "execution_count": 7,
   "id": "03797d76",
   "metadata": {},
   "outputs": [
    {
     "name": "stdout",
     "output_type": "stream",
     "text": [
      "0\n"
     ]
    },
    {
     "data": {
      "text/plain": [
       "int"
      ]
     },
     "execution_count": 7,
     "metadata": {},
     "output_type": "execute_result"
    }
   ],
   "source": [
    "x=0\n",
    "print(x)\n",
    "type(x)"
   ]
  },
  {
   "cell_type": "code",
   "execution_count": 8,
   "id": "5711dee6",
   "metadata": {},
   "outputs": [
    {
     "name": "stdout",
     "output_type": "stream",
     "text": [
      "3.14\n"
     ]
    },
    {
     "data": {
      "text/plain": [
       "float"
      ]
     },
     "execution_count": 8,
     "metadata": {},
     "output_type": "execute_result"
    }
   ],
   "source": [
    "x=3.14\n",
    "print(x)\n",
    "type(x)"
   ]
  },
  {
   "cell_type": "code",
   "execution_count": 9,
   "id": "e21b83e7",
   "metadata": {
    "scrolled": true
   },
   "outputs": [
    {
     "name": "stdout",
     "output_type": "stream",
     "text": [
      "-3.14\n"
     ]
    },
    {
     "data": {
      "text/plain": [
       "float"
      ]
     },
     "execution_count": 9,
     "metadata": {},
     "output_type": "execute_result"
    }
   ],
   "source": [
    "x=-3.14\n",
    "print(x)\n",
    "type(x)"
   ]
  },
  {
   "cell_type": "code",
   "execution_count": 10,
   "id": "836f5f91",
   "metadata": {},
   "outputs": [
    {
     "name": "stdout",
     "output_type": "stream",
     "text": [
      "-0.0\n"
     ]
    },
    {
     "data": {
      "text/plain": [
       "float"
      ]
     },
     "execution_count": 10,
     "metadata": {},
     "output_type": "execute_result"
    }
   ],
   "source": [
    "x=-0.0\n",
    "print(x)\n",
    "type(x)"
   ]
  },
  {
   "cell_type": "code",
   "execution_count": 11,
   "id": "3edf3ec1",
   "metadata": {},
   "outputs": [
    {
     "data": {
      "text/plain": [
       "'Hello'"
      ]
     },
     "execution_count": 11,
     "metadata": {},
     "output_type": "execute_result"
    }
   ],
   "source": [
    "\"Hello\""
   ]
  },
  {
   "cell_type": "code",
   "execution_count": 13,
   "id": "c84489e0",
   "metadata": {},
   "outputs": [
    {
     "name": "stdout",
     "output_type": "stream",
     "text": [
      "Hello\n"
     ]
    }
   ],
   "source": [
    "msg=\"Hello\"\n",
    "msg\n",
    "print(msg)"
   ]
  },
  {
   "cell_type": "code",
   "execution_count": 16,
   "id": "5a94e4bb",
   "metadata": {},
   "outputs": [
    {
     "name": "stdout",
     "output_type": "stream",
     "text": [
      "She said 'Hi'\n"
     ]
    }
   ],
   "source": [
    "msg=\"She said 'Hi'\"\n",
    "print(msg)"
   ]
  },
  {
   "cell_type": "code",
   "execution_count": 17,
   "id": "1146fb5e",
   "metadata": {},
   "outputs": [
    {
     "name": "stdout",
     "output_type": "stream",
     "text": [
      "300\n",
      "100200\n"
     ]
    }
   ],
   "source": [
    "print(100+200)\n",
    "print(\"100\"+\"200\")"
   ]
  },
  {
   "cell_type": "code",
   "execution_count": 19,
   "id": "b314f321",
   "metadata": {},
   "outputs": [
    {
     "name": "stdout",
     "output_type": "stream",
     "text": [
      "정수를 입력하시오: 100\n",
      "정수를 입력하시오: 200\n",
      "100200\n"
     ]
    }
   ],
   "source": [
    "x=input(\"정수를 입력하시오: \")\n",
    "y=input(\"정수를 입력하시오: \")\n",
    "print(x+y)"
   ]
  },
  {
   "cell_type": "code",
   "execution_count": 21,
   "id": "a14d5c58",
   "metadata": {},
   "outputs": [
    {
     "name": "stdout",
     "output_type": "stream",
     "text": [
      "정수를 입력하시오: 100\n",
      "정수를 입력하시오: 200\n",
      "300\n"
     ]
    }
   ],
   "source": [
    "x1=input(\"정수를 입력하시오: \")\n",
    "x = int(x1)\n",
    "\n",
    "y1=input(\"정수를 입력하시오: \")\n",
    "y = int(y1)\n",
    "print(x+y)"
   ]
  },
  {
   "cell_type": "code",
   "execution_count": 22,
   "id": "2418d31e",
   "metadata": {},
   "outputs": [
    {
     "name": "stdout",
     "output_type": "stream",
     "text": [
      "실수를 입력하시오:2.14\n",
      "실수를 입력하시오:9.54\n",
      "11.68\n"
     ]
    }
   ],
   "source": [
    "x=float(input(\"실수를 입력하시오:\"))\n",
    "y=float(input(\"실수를 입력하시오:\"))\n",
    "\n",
    "print(x+y)"
   ]
  },
  {
   "cell_type": "code",
   "execution_count": 23,
   "id": "9ed2bb39",
   "metadata": {},
   "outputs": [
    {
     "name": "stdout",
     "output_type": "stream",
     "text": [
      "나는 현재17살이다\n"
     ]
    }
   ],
   "source": [
    "print('나는 현재'+str(17)+'살이다')"
   ]
  },
  {
   "cell_type": "code",
   "execution_count": 24,
   "id": "b8478915",
   "metadata": {},
   "outputs": [
    {
     "name": "stdout",
     "output_type": "stream",
     "text": [
      "원주율3.14입니다.\n"
     ]
    }
   ],
   "source": [
    "print('원주율'+str(3.14)+'입니다.')"
   ]
  },
  {
   "cell_type": "code",
   "execution_count": 25,
   "id": "6db1af57",
   "metadata": {},
   "outputs": [
    {
     "name": "stdout",
     "output_type": "stream",
     "text": [
      "홍길동\n"
     ]
    }
   ],
   "source": [
    "first_name=\"길동\"\n",
    "last_name=\"홍\"\n",
    "name = last_name + first_name\n",
    "print (name)"
   ]
  },
  {
   "cell_type": "code",
   "execution_count": 26,
   "id": "9568b3bb",
   "metadata": {},
   "outputs": [
    {
     "name": "stdout",
     "output_type": "stream",
     "text": [
      "Congeatulations!Congeatulations!Congeatulations!\n"
     ]
    }
   ],
   "source": [
    "message = \"Congeatulations!\"\n",
    "print(message*3)"
   ]
  },
  {
   "cell_type": "code",
   "execution_count": 28,
   "id": "7a524a16",
   "metadata": {},
   "outputs": [
    {
     "name": "stdout",
     "output_type": "stream",
     "text": [
      "==============================\n"
     ]
    }
   ],
   "source": [
    "line=\"=\"*30\n",
    "print(line)"
   ]
  },
  {
   "cell_type": "code",
   "execution_count": 29,
   "id": "97336cc2",
   "metadata": {},
   "outputs": [
    {
     "name": "stdout",
     "output_type": "stream",
     "text": [
      "상품의 가격은 10000 원 입니다\n"
     ]
    }
   ],
   "source": [
    "'''%s  '''\n",
    "price = 10000\n",
    "print(\"상품의 가격은 %s 원 입니다\" % price)"
   ]
  },
  {
   "cell_type": "code",
   "execution_count": 30,
   "id": "67a86f0f",
   "metadata": {},
   "outputs": [
    {
     "name": "stdout",
     "output_type": "stream",
     "text": [
      "이렇게 정다운\n",
      "나 하나 나 하나는 \n",
      "어디서 무엇이 되어 \n",
      "다시 만나랴\n"
     ]
    }
   ],
   "source": [
    "poem = \"이렇게 정다운\\n나 하나 나 하나는 \\n어디서 무엇이 되어 \\n다시 만나랴\"\n",
    "print(poem)"
   ]
  },
  {
   "cell_type": "code",
   "execution_count": 31,
   "id": "07cad103",
   "metadata": {},
   "outputs": [
    {
     "name": "stdout",
     "output_type": "stream",
     "text": [
      "이렇게 정다운\n",
      "나 하나 나 하나는 \n",
      "어디서 무엇이 되어 \n",
      "다시 만나랴\n"
     ]
    }
   ],
   "source": [
    "poem = '''이렇게 정다운\n",
    "나 하나 나 하나는 \n",
    "어디서 무엇이 되어 \n",
    "다시 만나랴'''\n",
    "print(poem)"
   ]
  },
  {
   "cell_type": "code",
   "execution_count": 32,
   "id": "d1cbb543",
   "metadata": {},
   "outputs": [
    {
     "name": "stdout",
     "output_type": "stream",
     "text": [
      "H\n",
      "o\n",
      "l\n"
     ]
    }
   ],
   "source": [
    "s=\"Hello Python\"\n",
    "print(s[0])\n",
    "print(s[4])\n",
    "print(s[2])"
   ]
  },
  {
   "cell_type": "code",
   "execution_count": 33,
   "id": "3853d96a",
   "metadata": {},
   "outputs": [
    {
     "name": "stdout",
     "output_type": "stream",
     "text": [
      "Pyth\n",
      "Pyth\n",
      "HloPt\n",
      "nohtyP\n"
     ]
    }
   ],
   "source": [
    "'''\n",
    " s[a : b]\n",
    " s[a:b:c]\n",
    " s[0: :1]    s[0]에서부터 문자열 끝까지 1간격의 문자열\n",
    " s[-1: :-1]  문지열 거꾸로 전체\n",
    " s[:]        문자열 전체\n",
    "'''\n",
    "s=\"Hello Python\"\n",
    "print(s[6:10])\n",
    "print(s[-6:-2])\n",
    "print(s[0:10:2])\n",
    "print(s[-1:-7:-1])"
   ]
  },
  {
   "cell_type": "code",
   "execution_count": 36,
   "id": "9d42c796",
   "metadata": {},
   "outputs": [
    {
     "name": "stdout",
     "output_type": "stream",
     "text": [
      "소금물의 농도를 구하는 프로그램입니다.\n",
      "소금의 양은 몇 g입니까?50\n",
      "소금의 양은 몇 g입니까?80\n",
      "소금물의 농도: 38.46153846153847 %\n"
     ]
    }
   ],
   "source": [
    "'lab 소금물의 농도' \n",
    "print(\"소금물의 농도를 구하는 프로그램입니다.\")\n",
    "su=int(input(\"소금의 양은 몇 g입니까?\"))\n",
    "wu=int(input(\"소금의 양은 몇 g입니까?\"))\n",
    "no=(su/(su+wu))*100\n",
    "print(\"소금물의 농도:\",no,\"%\")"
   ]
  },
  {
   "cell_type": "code",
   "execution_count": 42,
   "id": "1ac0ded5",
   "metadata": {},
   "outputs": [
    {
     "name": "stdout",
     "output_type": "stream",
     "text": [
      "안녕하세요\n",
      "이름이 뭐예요? 홍길동\n",
      "만나서 반갑습니다. 홍길동 님\n",
      "홍길동 님, 이름의 길이는 다음과 같군요: 3\n",
      "나이가 어떻게 되요? 20\n",
      "내년이면 21세가 되시는군요\n"
     ]
    }
   ],
   "source": [
    "print(\"안녕하세요\")\n",
    "name=input(\"이름이 뭐예요? \")\n",
    "print(\"만나서 반갑습니다.\",name,\"님\")\n",
    "print(name,\"님, 이름의 길이는 다음과 같군요:\",len(name))\n",
    "age=int(input(\"나이가 어떻게 되요? \"))\n",
    "print(\"내년이면 \"+str(age+1)+\"세가 되시는군요\")\n",
    "    "
   ]
  },
  {
   "cell_type": "code",
   "execution_count": 44,
   "id": "cc4fad24",
   "metadata": {},
   "outputs": [
    {
     "name": "stdout",
     "output_type": "stream",
     "text": [
      "안녕하세요? 홍길동\n"
     ]
    }
   ],
   "source": [
    "name=input(\"안녕하세요? \")\n",
    "import turtle\n",
    "t = turtle.Turtle()\n",
    "t.shape(\"turtle\")\n",
    "t.write(\"안녕하세요\"+name+\"씨, 터틀인사드립니다.\")\n",
    "t.lt(90)\n",
    "t.fd(100)\n",
    "t.lt(90)\n",
    "t.fd(100)\n",
    "t.lt(90)\n",
    "t.fd(100)\n",
    "t.lt(90)\n",
    "t.fd(100)\n"
   ]
  },
  {
   "cell_type": "code",
   "execution_count": 5,
   "id": "f475b92d",
   "metadata": {},
   "outputs": [
    {
     "name": "stdout",
     "output_type": "stream",
     "text": [
      "평문: 도서관에서 보자\n",
      "암호문:  자보 서에관서도\n",
      "암호문:  \n"
     ]
    }
   ],
   "source": [
    "p=\"도서관에서 보자\"\n",
    "\n",
    "print('평문:',p)\n",
    "print(\"암호문: \",p[-1: :-1])"
   ]
  },
  {
   "cell_type": "code",
   "execution_count": 7,
   "id": "979471f5",
   "metadata": {},
   "outputs": [
    {
     "name": "stdout",
     "output_type": "stream",
     "text": [
      "올해는 2021년입니다.\n",
      "당신의 나이를 입력하세요: 17\n",
      "2050년 47살이군요\n"
     ]
    }
   ],
   "source": [
    "import time\n",
    "now=time.time()\n",
    "thisYear=int(1970+now//(365*24*3600))\n",
    "print(\"올해는 \"+str(thisYear)+\"년입니다.\")\n",
    "age=int(input(\"당신의 나이를 입력하세요: \"))\n",
    "print(\"2050년 \"+str(age+30)+\"살이군요\")"
   ]
  },
  {
   "cell_type": "code",
   "execution_count": 11,
   "id": "629bed04",
   "metadata": {},
   "outputs": [
    {
     "name": "stdout",
     "output_type": "stream",
     "text": [
      "문자열을 입력하시오: 연습문제\n",
      "연습문제하는 중\n"
     ]
    }
   ],
   "source": [
    "'''4장 추가 연습문제 1번'''\n",
    "st=input(\"문자열을 입력하시오: \")\n",
    "print(st+\"하는 중\")\n"
   ]
  },
  {
   "cell_type": "code",
   "execution_count": 12,
   "id": "0082d482",
   "metadata": {},
   "outputs": [
    {
     "name": "stdout",
     "output_type": "stream",
     "text": [
      "기호를 입력하시오: []\n",
      "중간에 삽입할 문자열을 입력하시오: python\n",
      "[python]\n"
     ]
    }
   ],
   "source": [
    "'''4장 추가 연습문제 2번 기호는 문자 2개 가정'''\n",
    "giho=input(\"기호를 입력하시오: \")\n",
    "st=input(\"중간에 삽입할 문자열을 입력하시오: \")\n",
    "print(giho[0]+st+giho[1])"
   ]
  },
  {
   "cell_type": "code",
   "execution_count": 13,
   "id": "22b48042",
   "metadata": {
    "scrolled": true
   },
   "outputs": [
    {
     "name": "stdout",
     "output_type": "stream",
     "text": [
      "드라이브 이름: c\n",
      "디렉토리 이름: \\test\\\n",
      "파일 이름: sample\n",
      "확장자: py\n",
      "완전한 이름은 c:\\test\\sample.py\n"
     ]
    }
   ],
   "source": [
    "'''4장 추가 연습문제 3번'''\n",
    "d_name=input(\"드라이브 이름: \")\n",
    "dr_name=input(\"디렉토리 이름: \")\n",
    "file_name=input(\"파일 이름: \")\n",
    "hjj=input(\"확장자: \")\n",
    "print(\"완전한 이름은 \"+d_name+\":\"+dr_name+file_name+\".\"+hjj)"
   ]
  },
  {
   "cell_type": "code",
   "execution_count": null,
   "id": "2d26aba2",
   "metadata": {},
   "outputs": [],
   "source": []
  }
 ],
 "metadata": {
  "kernelspec": {
   "display_name": "Python 3",
   "language": "python",
   "name": "python3"
  },
  "language_info": {
   "codemirror_mode": {
    "name": "ipython",
    "version": 3
   },
   "file_extension": ".py",
   "mimetype": "text/x-python",
   "name": "python",
   "nbconvert_exporter": "python",
   "pygments_lexer": "ipython3",
   "version": "3.8.8"
  }
 },
 "nbformat": 4,
 "nbformat_minor": 5
}
